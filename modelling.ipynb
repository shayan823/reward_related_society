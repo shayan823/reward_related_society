{
 "cells": [
  {
   "cell_type": "code",
   "execution_count": 1,
   "metadata": {},
   "outputs": [],
   "source": [
    "import datajoint as dj\n",
    "\n",
    "dj.config[\"database.host\"] = \"datajoint-public.internationalbrainlab.org\"\n",
    "dj.config[\"database.user\"] = \"ibl-public\"\n",
    "dj.config[\"database.password\"] = \"ibl-public\" "
   ]
  },
  {
   "cell_type": "code",
   "execution_count": 2,
   "metadata": {},
   "outputs": [
    {
     "name": "stderr",
     "output_type": "stream",
     "text": [
      "[2022-07-26 20:01:02,800][INFO]: Connecting ibl-public@datajoint-public.internationalbrainlab.org:3306\n",
      "[2022-07-26 20:01:05,651][INFO]: Connected ibl-public@datajoint-public.internationalbrainlab.org:3306\n"
     ]
    }
   ],
   "source": [
    "import numpy as np\n",
    "import pandas as pd\n",
    "import seaborn as sns\n",
    "from sklearn.linear_model import LogisticRegression\n",
    "from sklearn.metrics import confusion_matrix, f1_score, precision_score, recall_score\n",
    "from sklearn.model_selection import train_test_split\n",
    "from nma_ibl import reference, subject, action, acquisition, data, behavior, behavior_analyses\n",
    "from tools import length_last_streak, fetch_mice_by_percentage, search_sequence\n"
   ]
  },
  {
   "cell_type": "code",
   "execution_count": 3,
   "metadata": {},
   "outputs": [],
   "source": [
    "from nma_ibl import reference, subject, action, acquisition, data, behavior, behavior_analyses\n"
   ]
  },
  {
   "cell_type": "code",
   "execution_count": 5,
   "metadata": {},
   "outputs": [],
   "source": [
    "def get_streak_data(lab,percentage,features):\n",
    "  \"\"\" Returns streak of rewards and/or punishments before all trials with 50/50 probability, for all mice in chosen lab, with chosen training percentage.\n",
    "\n",
    "  Parameters\n",
    "  ----------    \n",
    "  lab    : input string\n",
    "  percentage    : input int\n",
    "  features: input list of signed ints (positive for reward streak length, negative for punish streak length)\n",
    "\n",
    "  Output\n",
    "  ------    \n",
    "  Output :\n",
    "  2D array with size (features x samples)\n",
    "  1D array with size samples\n",
    "  \"\"\"\n",
    "\n",
    "\n",
    "  lab_mice_in_training = ((behavior_analyses.SessionTrainingStatus & {'training_status' : 'in_training'}) * subject.SubjectLab & {'lab_name' : lab}) & behavior.TrialSet.Trial\n",
    "  lab_mice = np.unique(lab_mice_in_training.fetch('subject_uuid'))\n",
    "\n",
    "  id = lab_mice_in_training.fetch('subject_uuid')\n",
    "  training_days = np.zeros_like(lab_mice)\n",
    "\n",
    "  for idx, mouse in enumerate(lab_mice):\n",
    "    training_days[idx] = len(np.where(id == mouse)[0])\n",
    "\n",
    "  dictionary = fetch_mice_by_percentage(lab_mice,lab_mice_in_training,percentage)\n",
    "\n",
    "\n",
    "  X = np.empty((len(features)+1,1))\n",
    "  \n",
    "  y = []\n",
    "  for mouse in lab_mice:\n",
    "    try:\n",
    "      for i in range(len(dictionary[mouse])):\n",
    "        session, contrast_left, contrast_right = ((behavior.TrialSet.Trial & {'subject_uuid' : mouse} & {'trial_stim_prob_left': 0.5}) & {'session_start_time' : dictionary[mouse][i]}).fetch('trial_feedback_type','trial_stim_contrast_left','trial_stim_contrast_right')\n",
    "        x_0 = contrast_left + contrast_right\n",
    "        x = x_0\n",
    "\n",
    "        for feature in features:\n",
    "          x = np.vstack( (x,search_sequence(session,abs(feature), np.sign(feature) )))\n",
    "        \n",
    "        X = np.concatenate((X,x),axis=1)\n",
    "\n",
    "\n",
    "        y = np.append(y,session)\n",
    "    except:\n",
    "      pass\n",
    "    \n",
    "  return(X[:,1:],y.astype('float'))"
   ]
  },
  {
   "cell_type": "code",
   "execution_count": 25,
   "metadata": {},
   "outputs": [],
   "source": [
    "def streak_modelling(X,y):\n",
    "    x_train, x_test, y_train, y_test = train_test_split(X.T, y, test_size=0.25, random_state=0)\n",
    "    logisticRegr = LogisticRegression()\n",
    "    logisticRegr.fit(x_train, y_train)\n",
    "    coef = logisticRegr.coef_[0]\n",
    "\n",
    "    y_pred = logisticRegr.predict(x_test)\n",
    "    training_accuracy = logisticRegr.score(x_train, y_train)\n",
    "    test_accuracy = logisticRegr.score(x_test, y_test)\n",
    "    print(\"Training accuracy:{:.2f}  Test accuracy:{:.2f}\".format(training_accuracy*100, test_accuracy*100))\n",
    "    print(\"Precision:{:.2f} Recall:{:.2f}\".format(precision_score(y_pred, y_test)*100,\n",
    "                                                recall_score(y_pred, y_test)*100))\n",
    "    print(\"Coefficients for logistic regression:\")\n",
    "    print(coef)\n",
    "    print(confusion_matrix(y_test,y_pred))\n",
    "    return training_accuracy, test_accuracy"
   ]
  },
  {
   "cell_type": "code",
   "execution_count": 7,
   "metadata": {},
   "outputs": [
    {
     "name": "stdout",
     "output_type": "stream",
     "text": [
      "(5, 24909) (24909,)\n"
     ]
    }
   ],
   "source": [
    "X, y = get_streak_data(\"mainenlab\", 50, [2,3,-2,-3])\n",
    "print(X.shape, y.shape)\n",
    "# streak_modelling(X,y)"
   ]
  },
  {
   "cell_type": "code",
   "execution_count": 8,
   "metadata": {},
   "outputs": [
    {
     "data": {
      "text/html": [
       "<div>\n",
       "<style scoped>\n",
       "    .dataframe tbody tr th:only-of-type {\n",
       "        vertical-align: middle;\n",
       "    }\n",
       "\n",
       "    .dataframe tbody tr th {\n",
       "        vertical-align: top;\n",
       "    }\n",
       "\n",
       "    .dataframe thead th {\n",
       "        text-align: right;\n",
       "    }\n",
       "</style>\n",
       "<table border=\"1\" class=\"dataframe\">\n",
       "  <thead>\n",
       "    <tr style=\"text-align: right;\">\n",
       "      <th></th>\n",
       "      <th>contrast</th>\n",
       "      <th>pos_streak_2</th>\n",
       "      <th>pos_streak_3</th>\n",
       "      <th>neg_streak_2</th>\n",
       "      <th>neg_streak_3</th>\n",
       "    </tr>\n",
       "  </thead>\n",
       "  <tbody>\n",
       "    <tr>\n",
       "      <th>contrast</th>\n",
       "      <td>1.000000</td>\n",
       "      <td>0.031687</td>\n",
       "      <td>0.020391</td>\n",
       "      <td>-0.005621</td>\n",
       "      <td>0.018082</td>\n",
       "    </tr>\n",
       "    <tr>\n",
       "      <th>pos_streak_2</th>\n",
       "      <td>0.031687</td>\n",
       "      <td>1.000000</td>\n",
       "      <td>0.765443</td>\n",
       "      <td>-0.363305</td>\n",
       "      <td>-0.230800</td>\n",
       "    </tr>\n",
       "    <tr>\n",
       "      <th>pos_streak_3</th>\n",
       "      <td>0.020391</td>\n",
       "      <td>0.765443</td>\n",
       "      <td>1.000000</td>\n",
       "      <td>-0.278089</td>\n",
       "      <td>-0.176664</td>\n",
       "    </tr>\n",
       "    <tr>\n",
       "      <th>neg_streak_2</th>\n",
       "      <td>-0.005621</td>\n",
       "      <td>-0.363305</td>\n",
       "      <td>-0.278089</td>\n",
       "      <td>1.000000</td>\n",
       "      <td>0.635280</td>\n",
       "    </tr>\n",
       "    <tr>\n",
       "      <th>neg_streak_3</th>\n",
       "      <td>0.018082</td>\n",
       "      <td>-0.230800</td>\n",
       "      <td>-0.176664</td>\n",
       "      <td>0.635280</td>\n",
       "      <td>1.000000</td>\n",
       "    </tr>\n",
       "  </tbody>\n",
       "</table>\n",
       "</div>"
      ],
      "text/plain": [
       "              contrast  pos_streak_2  pos_streak_3  neg_streak_2  neg_streak_3\n",
       "contrast      1.000000      0.031687      0.020391     -0.005621      0.018082\n",
       "pos_streak_2  0.031687      1.000000      0.765443     -0.363305     -0.230800\n",
       "pos_streak_3  0.020391      0.765443      1.000000     -0.278089     -0.176664\n",
       "neg_streak_2 -0.005621     -0.363305     -0.278089      1.000000      0.635280\n",
       "neg_streak_3  0.018082     -0.230800     -0.176664      0.635280      1.000000"
      ]
     },
     "execution_count": 8,
     "metadata": {},
     "output_type": "execute_result"
    }
   ],
   "source": [
    "column_names=['contrast','pos_streak_2','pos_streak_3','neg_streak_2','neg_streak_3']\n",
    "df=pd.DataFrame(data=X.T, columns=column_names)\n",
    "df.corr()"
   ]
  },
  {
   "cell_type": "code",
   "execution_count": 7,
   "metadata": {},
   "outputs": [
    {
     "name": "stderr",
     "output_type": "stream",
     "text": [
      "[2022-07-23 00:49:52,453][WARNING]: MySQL server has gone away. Reconnecting to the server.\n"
     ]
    },
    {
     "name": "stdout",
     "output_type": "stream",
     "text": [
      "%_trained_mice_considered:10\n",
      "Training accuracy:76.52  Test accuracy:75.75\n",
      "Precision:72.82 Recall:74.70\n",
      "-------------------------------------------------------------------\n",
      "\n",
      "%_trained_mice_considered:20\n",
      "Training accuracy:78.13  Test accuracy:77.02\n",
      "Precision:76.13 Recall:75.39\n",
      "-------------------------------------------------------------------\n",
      "\n",
      "%_trained_mice_considered:30\n",
      "Training accuracy:78.07  Test accuracy:78.44\n",
      "Precision:60.81 Recall:100.00\n",
      "-------------------------------------------------------------------\n",
      "\n",
      "%_trained_mice_considered:40\n",
      "Training accuracy:80.95  Test accuracy:82.08\n",
      "Precision:85.20 Recall:87.43\n",
      "-------------------------------------------------------------------\n",
      "\n",
      "%_trained_mice_considered:50\n",
      "Training accuracy:81.56  Test accuracy:81.71\n",
      "Precision:84.36 Recall:88.16\n",
      "-------------------------------------------------------------------\n",
      "\n",
      "%_trained_mice_considered:60\n",
      "Training accuracy:84.41  Test accuracy:83.80\n",
      "Precision:85.90 Recall:91.30\n",
      "-------------------------------------------------------------------\n",
      "\n",
      "%_trained_mice_considered:70\n",
      "Training accuracy:85.31  Test accuracy:84.56\n",
      "Precision:86.26 Recall:92.66\n",
      "-------------------------------------------------------------------\n",
      "\n",
      "%_trained_mice_considered:80\n",
      "Training accuracy:85.65  Test accuracy:86.23\n",
      "Precision:90.58 Recall:91.30\n",
      "-------------------------------------------------------------------\n",
      "\n",
      "%_trained_mice_considered:90\n",
      "Training accuracy:85.56  Test accuracy:85.70\n",
      "Precision:88.08 Recall:92.75\n",
      "-------------------------------------------------------------------\n",
      "\n"
     ]
    }
   ],
   "source": [
    "pc=np.arange(10,100,10)\n",
    "train=[]\n",
    "test=[]\n",
    "for percentage in pc:\n",
    "    print(\"%_trained_mice_considered:{}\".format(percentage))\n",
    "    data_X, data_y = get_streak_data(\"mainenlab\", percentage, [2,3,-2,-3])\n",
    "    train_acc, test_acc = streak_modelling(data_X,data_y)\n",
    "    train.append(train_acc)\n",
    "    test.append(test_acc)\n",
    "    print(\"-------------------------------------------------------------------\\n\")"
   ]
  },
  {
   "cell_type": "code",
   "execution_count": 8,
   "metadata": {},
   "outputs": [
    {
     "data": {
      "text/plain": [
       "<AxesSubplot:xlabel='%_trained'>"
      ]
     },
     "execution_count": 8,
     "metadata": {},
     "output_type": "execute_result"
    },
    {
     "data": {
      "image/png": "[encoded data removed]",
      "text/plain": [
       "<Figure size 432x288 with 1 Axes>"
      ]
     },
     "metadata": {
      "needs_background": "light"
     },
     "output_type": "display_data"
    }
   ],
   "source": [
    "data_for_acc_vs_percentage_trained = {\"%_trained\":pc,\n",
    "                                      \"train_accuracy\": train,\n",
    "                                      \"test_accuracy\": test}\n",
    "df = pd.DataFrame(data_for_acc_vs_percentage_trained).set_index(\"%_trained\")\n",
    "# df.head(10)\n",
    "sns.lineplot(data=df)"
   ]
  },
  {
   "cell_type": "code",
   "execution_count": 95,
   "metadata": {},
   "outputs": [],
   "source": [
    "from tools import length_last_streak\n",
    "lab=\"mainenlab\"\n",
    "percentage=50"
   ]
  },
  {
   "cell_type": "code",
   "execution_count": 16,
   "metadata": {},
   "outputs": [],
   "source": [
    "def get_streak_length(lab, percentage):\n",
    "  lab_mice_in_training = behavior_analyses.SessionTrainingStatus & 'training_status = \"in_training\" ' & (subject.SubjectLab & 'lab_name = \"{}\"'.format(lab)) \n",
    "  lab_mice = np.unique(lab_mice_in_training.fetch('subject_uuid'))\n",
    "\n",
    "  id = lab_mice_in_training.fetch('subject_uuid')\n",
    "  training_days = np.zeros_like(lab_mice)\n",
    "\n",
    "  for idx, mouse in enumerate(lab_mice):\n",
    "    training_days[idx] = len(np.where(id == mouse)[0])\n",
    "\n",
    "  dictionary = fetch_mice_by_percentage(lab_mice,lab_mice_in_training,percentage)\n",
    "  # print(dictionary)\n",
    "\n",
    "  X_0=[]\n",
    "  X_1=[]\n",
    "  X_2=[]\n",
    "\n",
    "  y = []\n",
    "  for mouse in lab_mice:\n",
    "    try:\n",
    "      for i in range(len(dictionary[mouse])):\n",
    "        session, contrast_left, contrast_right = ((behavior.TrialSet.Trial & {'subject_uuid' : mouse} & {'trial_stim_prob_left': 0.5}) & {'session_start_time' : dictionary[mouse][i]}).fetch('trial_feedback_type',\n",
    "        'trial_stim_contrast_left',\n",
    "        'trial_stim_contrast_right')\n",
    "        \n",
    "        x_0 = contrast_left + contrast_right\n",
    "        x_pos = [length_last_streak(session,j,1) for j in range(len(session))]\n",
    "        x_neg = [length_last_streak(session,j,-1) for j in range(len(session))]\n",
    "\n",
    "        X_0 = np.append(X_0,x_0)\n",
    "        X_1 = np.append(X_1,x_pos)\n",
    "        X_2 = np.append(X_2,x_neg)\n",
    "\n",
    "        y = np.append(y,session)\n",
    "    except:\n",
    "      pass\n",
    "  X = np.vstack((X_0,X_1,X_2))\n",
    "  X = X.astype(\"float\")\n",
    "  y = y.astype(\"float\")\n",
    "\n",
    "  return (X, y)"
   ]
  },
  {
   "cell_type": "code",
   "execution_count": 17,
   "metadata": {},
   "outputs": [],
   "source": [
    "X,y = get_streak_length(\"mainenlab\", 10)"
   ]
  },
  {
   "cell_type": "code",
   "execution_count": 18,
   "metadata": {},
   "outputs": [
    {
     "name": "stdout",
     "output_type": "stream",
     "text": [
      "(3, 24705) (24705,)\n"
     ]
    }
   ],
   "source": [
    "train_acc, test_acc = streak_modelling(X,y)"
   ]
  },
  {
   "cell_type": "code",
   "execution_count": 26,
   "metadata": {},
   "outputs": [
    {
     "name": "stdout",
     "output_type": "stream",
     "text": [
      "%_trained_mice_considered:10\n",
      "Training accuracy:53.78  Test accuracy:52.17\n",
      "Precision:0.00 Recall:0.00\n",
      "----\n",
      "%_trained_mice_considered:20\n"
     ]
    },
    {
     "name": "stderr",
     "output_type": "stream",
     "text": [
      "/Users/shayan/opt/anaconda3/envs/rl/lib/python3.7/site-packages/sklearn/metrics/_classification.py:1318: UndefinedMetricWarning: Recall is ill-defined and being set to 0.0 due to no true samples. Use `zero_division` parameter to control this behavior.\n",
      "  _warn_prf(average, modifier, msg_start, len(result))\n"
     ]
    },
    {
     "name": "stdout",
     "output_type": "stream",
     "text": [
      "Training accuracy:54.11  Test accuracy:55.58\n",
      "Precision:56.88 Recall:55.29\n",
      "----\n",
      "%_trained_mice_considered:30\n",
      "Training accuracy:60.65  Test accuracy:60.15\n",
      "Precision:92.04 Recall:60.82\n",
      "----\n",
      "%_trained_mice_considered:40\n",
      "Training accuracy:66.34  Test accuracy:66.33\n",
      "Precision:98.22 Recall:66.55\n",
      "----\n",
      "%_trained_mice_considered:50\n",
      "Training accuracy:70.36  Test accuracy:70.81\n",
      "Precision:98.81 Recall:71.14\n",
      "----\n",
      "%_trained_mice_considered:60\n",
      "Training accuracy:73.87  Test accuracy:73.87\n",
      "Precision:99.09 Recall:74.12\n",
      "----\n",
      "%_trained_mice_considered:70\n",
      "Training accuracy:76.84  Test accuracy:76.42\n",
      "Precision:99.70 Recall:76.53\n",
      "----\n",
      "%_trained_mice_considered:80\n",
      "Training accuracy:76.22  Test accuracy:75.98\n",
      "Precision:99.79 Recall:76.07\n",
      "----\n",
      "%_trained_mice_considered:90\n",
      "Training accuracy:75.53  Test accuracy:75.61\n",
      "Precision:99.72 Recall:75.70\n",
      "----\n"
     ]
    }
   ],
   "source": [
    "pc=np.arange(10,100,10)\n",
    "train=[]\n",
    "test=[]\n",
    "for percentage in pc:\n",
    "    print(\"%_trained_mice_considered:{}\".format(percentage))\n",
    "    data_X, data_y = get_streak_length(\"mainenlab\", percentage)\n",
    "    train_acc, test_acc = streak_modelling(data_X,data_y)\n",
    "    train.append(train_acc)\n",
    "    test.append(test_acc)\n",
    "    print(\"----\")"
   ]
  },
  {
   "cell_type": "code",
   "execution_count": 24,
   "metadata": {},
   "outputs": [
    {
     "data": {
      "text/plain": [
       "<AxesSubplot:xlabel='%_trained'>"
      ]
     },
     "execution_count": 24,
     "metadata": {},
     "output_type": "execute_result"
    },
    {
     "data": {
      "image/png": "[encoded data removed]",
      "text/plain": [
       "<Figure size 432x288 with 1 Axes>"
      ]
     },
     "metadata": {
      "needs_background": "light"
     },
     "output_type": "display_data"
    }
   ],
   "source": [
    "data_for_acc_vs_percentage_trained = {\"%_trained\":pc,\n",
    "                                      \"train_accuracy\": train,\n",
    "                                      \"test_accuracy\": test}\n",
    "df = pd.DataFrame(data_for_acc_vs_percentage_trained).set_index(\"%_trained\")\n",
    "# df.head(10)\n",
    "sns.lineplot(data=df)"
   ]
  }
 ],
 "metadata": {
  "kernelspec": {
   "display_name": "Python 3.7.12 ('rl')",
   "language": "python",
   "name": "python3"
  },
  "language_info": {
   "codemirror_mode": {
    "name": "ipython",
    "version": 3
   },
   "file_extension": ".py",
   "mimetype": "text/x-python",
   "name": "python",
   "nbconvert_exporter": "python",
   "pygments_lexer": "ipython3",
   "version": "3.7.12"
  },
  "orig_nbformat": 4,
  "vscode": {
   "interpreter": {
    "hash": "83599f69252efe161ce8bdc00ce77d89a8b50b97e2c94be642d5762cc132c974"
   }
  }
 },
 "nbformat": 4,
 "nbformat_minor": 2
}
