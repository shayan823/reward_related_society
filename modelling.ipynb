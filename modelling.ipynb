{
 "cells": [
  {
   "cell_type": "code",
   "execution_count": 1,
   "metadata": {},
   "outputs": [],
   "source": [
    "import datajoint as dj\n",
    "\n",
    "dj.config[\"database.host\"] = \"datajoint-public.internationalbrainlab.org\"\n",
    "dj.config[\"database.user\"] = \"ibl-public\"\n",
    "dj.config[\"database.password\"] = \"ibl-public\" "
   ]
  },
  {
   "cell_type": "code",
   "execution_count": 2,
   "metadata": {},
   "outputs": [
    {
     "name": "stderr",
     "output_type": "stream",
     "text": [
      "[2022-07-23 00:43:47,738][INFO]: Connecting ibl-public@datajoint-public.internationalbrainlab.org:3306\n",
      "[2022-07-23 00:43:50,004][INFO]: Connected ibl-public@datajoint-public.internationalbrainlab.org:3306\n"
     ]
    }
   ],
   "source": [
    "import numpy as np\n",
    "import pandas as pd\n",
    "import seaborn as sns\n",
    "from sklearn.linear_model import LogisticRegression\n",
    "from sklearn.metrics import confusion_matrix, f1_score, precision_score, recall_score\n",
    "from sklearn.model_selection import train_test_split\n",
    "from nma_ibl import reference, subject, action, acquisition, data, behavior, behavior_analyses\n"
   ]
  },
  {
   "cell_type": "code",
   "execution_count": 3,
   "metadata": {},
   "outputs": [],
   "source": [
    "# 'trial_reward_volume'\n",
    "def fetch_mice_by_percentage(lab_mice, lab_mice_in_training, percentage):\n",
    "  dictionary = {}\n",
    "\n",
    "  for mouse in lab_mice:\n",
    "    one_guy = lab_mice_in_training & {'subject_uuid' : mouse}\n",
    "    total_trials = len(one_guy.fetch('training_status'))\n",
    "    train_percentage = np.arange(1,total_trials+1) / total_trials\n",
    "    train_percentage_bin = ((train_percentage // 0.1) + 1)*10\n",
    "    where = np.where(train_percentage_bin == percentage)[0]\n",
    "    if len(where) !=0:\n",
    "      dictionary[mouse] = one_guy.fetch('session_start_time')[where]\n",
    "  return dictionary\n",
    "\n",
    "def search_sequence(arr,streak_length, feedback):\n",
    "    \"\"\" Find sequence in an array using NumPy only.\n",
    "\n",
    "    Parameters\n",
    "    ----------    \n",
    "    arr    : input 1D array\n",
    "    streak_length    : input int\n",
    "\n",
    "    Output\n",
    "    ------    \n",
    "    Output : 1D Array with 1s on indices where input array matches the sequence and 0s otherwise.\n",
    "    \"\"\"\n",
    "    # Create the sequence to look for\n",
    "    seq = np.ones(streak_length)*feedback\n",
    "\n",
    "    # Store sizes of input array and sequence\n",
    "    streak = np.zeros(arr.size)\n",
    "    Na, Nseq = arr.size, seq.size\n",
    "\n",
    "    # Range of sequence\n",
    "    r_seq = np.arange(Nseq)\n",
    "\n",
    "    # Create a 2D array of sliding indices across the entire length of input array.\n",
    "    # Match up with the input sequence & get the matching starting indices.\n",
    "    M = (arr[np.arange(Na-Nseq)[:,None] + r_seq] == seq).all(1)\n",
    "\n",
    "    # Get True values of M and write streak array\n",
    "    where = np.where(M == True)[0] \n",
    "    streak[where] = 1\n",
    "\n",
    "    return streak\n",
    "\n",
    "def get_streak_data(lab,percentage):\n",
    "  \"\"\" Returns streak of rewards and/or punishments before all trials with 50/50 probability, for all mice in chosen lab, with chosen training percentage.\n",
    "\n",
    "  Parameters\n",
    "  ----------    \n",
    "  lab    : input string\n",
    "  percentage    : input int\n",
    "\n",
    "  Output\n",
    "  ------    \n",
    "  Output :\n",
    "  2D array with size (features x samples)\n",
    "  1D array with size samples\n",
    "  \"\"\"\n",
    "\n",
    "\n",
    "  lab_mice_in_training = behavior_analyses.SessionTrainingStatus & 'training_status = \"in_training\" ' & (subject.SubjectLab & 'lab_name = \"{}\"'.format(lab)) \n",
    "  lab_mice = np.unique(lab_mice_in_training.fetch('subject_uuid'))\n",
    "\n",
    "  id = lab_mice_in_training.fetch('subject_uuid')\n",
    "  training_days = np.zeros_like(lab_mice)\n",
    "\n",
    "  for idx, mouse in enumerate(lab_mice):\n",
    "    training_days[idx] = len(np.where(id == mouse)[0])\n",
    "\n",
    "  dictionary = fetch_mice_by_percentage(lab_mice,lab_mice_in_training,percentage)\n",
    "\n",
    "  X_0 = []   # contrast\n",
    "  X_1 = []   # feature 1, streaks of 2\n",
    "  X_2 = []   # feature 2, streaks of 3\n",
    "  X_3 = []   # feature 3, punishment streaks of 2\n",
    "  X_4 = []   # feature 4, punishment streaks of 3\n",
    "\n",
    "  y = []\n",
    "  for mouse in lab_mice:\n",
    "    try:\n",
    "      for i in range(len(dictionary[mouse])):\n",
    "        session, contrast_left, contrast_right = ((behavior.TrialSet.Trial & {'subject_uuid' : mouse} & {'trial_stim_prob_left': 0.5}) & {'session_start_time' : dictionary[mouse][i]}).fetch('trial_feedback_type','trial_stim_contrast_left','trial_stim_contrast_right')\n",
    "        x_0 = contrast_left + contrast_right\n",
    "        x_1 = search_sequence(session,2,1) \n",
    "        x_2 = search_sequence(session,3,1)\n",
    "        x_3 = search_sequence(session,2,-1) \n",
    "        x_4 = search_sequence(session,3,-1)  \n",
    "\n",
    "        X_0 = np.append(X_0,x_0)\n",
    "        X_1 = np.append(X_1,x_1)\n",
    "        X_2 = np.append(X_2,x_2)\n",
    "        X_3 = np.append(X_3,x_3)\n",
    "        X_4 = np.append(X_4,x_4)\n",
    "\n",
    "        y = np.append(y,session)\n",
    "    except:\n",
    "      pass\n",
    "\n",
    "  X = np.vstack((X_0,X_1,X_2,X_3,X_4))\n",
    "  X = X.astype(\"float\")\n",
    "  y = y.astype(\"float\")\n",
    "\n",
    "  return (X, y)"
   ]
  },
  {
   "cell_type": "code",
   "execution_count": 6,
   "metadata": {},
   "outputs": [],
   "source": [
    "def streak_modelling(X,y):\n",
    "    x_train, x_test, y_train, y_test = train_test_split(X.T, y, test_size=0.25, random_state=0)\n",
    "    logisticRegr = LogisticRegression()\n",
    "    logisticRegr.fit(x_train, y_train)\n",
    "    coef = logisticRegr.coef_[0]\n",
    "\n",
    "    y_pred = logisticRegr.predict(x_test)\n",
    "    training_accuracy = logisticRegr.score(x_train, y_train)\n",
    "    test_accuracy = logisticRegr.score(x_test, y_test)\n",
    "    print(\"Training accuracy:{:.2f}  Test accuracy:{:.2f}\".format(training_accuracy*100, test_accuracy*100))\n",
    "    print(\"Precision:{:.2f} Recall:{:.2f}\".format(precision_score(y_pred, y_test)*100,\n",
    "                                                recall_score(y_pred, y_test)*100))\n",
    "    # print(\"Coefficients for logistic regression:\")\n",
    "    # print(coef)\n",
    "    # print(confusion_matrix(y_test,y_pred))\n",
    "    return training_accuracy, test_accuracy"
   ]
  },
  {
   "cell_type": "code",
   "execution_count": 12,
   "metadata": {},
   "outputs": [
    {
     "name": "stderr",
     "output_type": "stream",
     "text": [
      "[2022-07-23 00:38:26,965][WARNING]: MySQL server has gone away. Reconnecting to the server.\n"
     ]
    },
    {
     "name": "stdout",
     "output_type": "stream",
     "text": [
      "Training accuracy:0.8155760890062229  Test accuracy:0.8171404327535002\n",
      "\n",
      "Precision:0.8435870698644421 Recall:0.8816477768090671\n",
      "\n",
      "Coefficients for logistic regression:\n",
      "[ 0.50394923  6.43689255  1.84567952 -5.77263494 -1.19024853]\n",
      "[[1733  543]\n",
      " [ 750 4045]]\n"
     ]
    },
    {
     "data": {
      "text/plain": [
       "(0.8155760890062229, 0.8171404327535002)"
      ]
     },
     "execution_count": 12,
     "metadata": {},
     "output_type": "execute_result"
    }
   ],
   "source": [
    "X, y = get_streak_data(\"mainenlab\", 50)\n",
    "streak_modelling(X,y)"
   ]
  },
  {
   "cell_type": "code",
   "execution_count": 7,
   "metadata": {},
   "outputs": [
    {
     "name": "stderr",
     "output_type": "stream",
     "text": [
      "[2022-07-23 00:49:52,453][WARNING]: MySQL server has gone away. Reconnecting to the server.\n"
     ]
    },
    {
     "name": "stdout",
     "output_type": "stream",
     "text": [
      "%_trained_mice_considered:10\n",
      "Training accuracy:76.52  Test accuracy:75.75\n",
      "Precision:72.82 Recall:74.70\n",
      "-------------------------------------------------------------------\n",
      "\n",
      "%_trained_mice_considered:20\n",
      "Training accuracy:78.13  Test accuracy:77.02\n",
      "Precision:76.13 Recall:75.39\n",
      "-------------------------------------------------------------------\n",
      "\n",
      "%_trained_mice_considered:30\n"
     ]
    }
   ],
   "source": [
    "pc=np.arange(10,100,10)\n",
    "train=[]\n",
    "test=[]\n",
    "for percentage in pc:\n",
    "    print(\"%_trained_mice_considered:{}\".format(percentage))\n",
    "    data_X, data_y = get_streak_data(\"mainenlab\", percentage)\n",
    "    train_acc, test_acc = streak_modelling(data_X,data_y)\n",
    "    train.append(train_acc)\n",
    "    test.append(test_acc)\n",
    "    print(\"-------------------------------------------------------------------\\n\")"
   ]
  },
  {
   "cell_type": "code",
   "execution_count": null,
   "metadata": {},
   "outputs": [
    {
     "data": {
      "text/plain": [
       "<AxesSubplot:xlabel='%_trained'>"
      ]
     },
     "execution_count": 45,
     "metadata": {},
     "output_type": "execute_result"
    },
    {
     "data": {
      "image/png": "[encoded data removed]",
      "text/plain": [
       "<Figure size 432x288 with 1 Axes>"
      ]
     },
     "metadata": {
      "needs_background": "light"
     },
     "output_type": "display_data"
    }
   ],
   "source": [
    "data_for_acc_vs_percentage_trained = {\"%_trained\":pc,\n",
    "                                      \"train_accuracy\": train,\n",
    "                                      \"test_accuracy\": test}\n",
    "df = pd.DataFrame(data_for_acc_vs_percentage_trained).set_index(\"%_trained\")\n",
    "# df.head(10)\n",
    "sns.lineplot(data=df)"
   ]
  }
 ],
 "metadata": {
  "kernelspec": {
   "display_name": "Python 3.7.12 ('rl')",
   "language": "python",
   "name": "python3"
  },
  "language_info": {
   "codemirror_mode": {
    "name": "ipython",
    "version": 3
   },
   "file_extension": ".py",
   "mimetype": "text/x-python",
   "name": "python",
   "nbconvert_exporter": "python",
   "pygments_lexer": "ipython3",
   "version": "3.7.12"
  },
  "orig_nbformat": 4,
  "vscode": {
   "interpreter": {
    "hash": "83599f69252efe161ce8bdc00ce77d89a8b50b97e2c94be642d5762cc132c974"
   }
  }
 },
 "nbformat": 4,
 "nbformat_minor": 2
}
