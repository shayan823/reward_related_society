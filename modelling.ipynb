{
 "cells": [
  {
   "cell_type": "code",
   "execution_count": 1,
   "metadata": {},
   "outputs": [],
   "source": [
    "import datajoint as dj\n",
    "\n",
    "dj.config[\"database.host\"] = \"datajoint-public.internationalbrainlab.org\"\n",
    "dj.config[\"database.user\"] = \"ibl-public\"\n",
    "dj.config[\"database.password\"] = \"ibl-public\" "
   ]
  },
  {
   "cell_type": "code",
   "execution_count": 2,
   "metadata": {},
   "outputs": [
    {
     "name": "stderr",
     "output_type": "stream",
     "text": [
      "[2022-07-26 21:09:42,816][INFO]: Connecting ibl-public@datajoint-public.internationalbrainlab.org:3306\n",
      "[2022-07-26 21:09:45,309][INFO]: Connected ibl-public@datajoint-public.internationalbrainlab.org:3306\n"
     ]
    }
   ],
   "source": [
    "import numpy as np\n",
    "import pandas as pd\n",
    "import matplotlib.pyplot as plt\n",
    "import seaborn as sns\n",
    "from scipy import stats\n",
    "from sklearn.linear_model import LogisticRegression\n",
    "from sklearn.preprocessing import StandardScaler\n",
    "from sklearn.metrics import confusion_matrix, f1_score, precision_score, recall_score, roc_auc_score\n",
    "from sklearn.model_selection import train_test_split\n",
    "from nma_ibl import reference, subject, action, acquisition, data, behavior, behavior_analyses\n",
    "from tools import length_last_streak, fetch_mice_by_percentage, search_sequence\n"
   ]
  },
  {
   "cell_type": "code",
   "execution_count": 109,
   "metadata": {},
   "outputs": [],
   "source": [
    "sns.set_style('whitegrid')"
   ]
  },
  {
   "cell_type": "code",
   "execution_count": 3,
   "metadata": {},
   "outputs": [],
   "source": [
    "from nma_ibl import reference, subject, action, acquisition, data, behavior, behavior_analyses\n"
   ]
  },
  {
   "cell_type": "markdown",
   "metadata": {},
   "source": [
    "## Method 1: One hot coding of streak lengths passed as features"
   ]
  },
  {
   "cell_type": "code",
   "execution_count": 16,
   "metadata": {},
   "outputs": [],
   "source": [
    "def get_streak_data(lab,percentage,features):\n",
    "  \"\"\" Returns streak of rewards and/or punishments before all trials with 50/50 probability, for all mice in chosen lab, with chosen training percentage.\n",
    "\n",
    "  Parameters\n",
    "  ----------    \n",
    "  lab    : input string\n",
    "  percentage    : input int\n",
    "  features: input list of signed ints (positive for reward streak length, negative for punish streak length)\n",
    "\n",
    "  Output\n",
    "  ------    \n",
    "  Output :\n",
    "  2D array with size (features x samples)\n",
    "  1D array with size samples\n",
    "  \"\"\"\n",
    "\n",
    "\n",
    "  lab_mice_in_training = ((behavior_analyses.SessionTrainingStatus & {'training_status' : 'in_training'}) * subject.SubjectLab & {'lab_name' : lab}) & behavior.TrialSet.Trial\n",
    "  lab_mice = np.unique(lab_mice_in_training.fetch('subject_uuid'))\n",
    "\n",
    "  id = lab_mice_in_training.fetch('subject_uuid')\n",
    "  training_days = np.zeros_like(lab_mice)\n",
    "\n",
    "  for idx, mouse in enumerate(lab_mice):\n",
    "    training_days[idx] = len(np.where(id == mouse)[0])\n",
    "\n",
    "  dictionary = fetch_mice_by_percentage(lab_mice,lab_mice_in_training,percentage)\n",
    "\n",
    "\n",
    "  X = np.empty((len(features)+1,1))\n",
    "  \n",
    "  y = []\n",
    "  for mouse in lab_mice:\n",
    "    try:\n",
    "      for i in range(len(dictionary[mouse])):\n",
    "        session, contrast_left, contrast_right = ((behavior.TrialSet.Trial & {'subject_uuid' : mouse} & {'trial_stim_prob_left': 0.5}) & {'session_start_time' : dictionary[mouse][i]}).fetch('trial_feedback_type','trial_stim_contrast_left','trial_stim_contrast_right')\n",
    "        x_0 = contrast_left + contrast_right\n",
    "        x = x_0\n",
    "\n",
    "        for feature in features:\n",
    "          x = np.vstack( (x,search_sequence(session,abs(feature), np.sign(feature) )))\n",
    "        \n",
    "        X = np.concatenate((X,x),axis=1)\n",
    "\n",
    "\n",
    "        y = np.append(y,session)\n",
    "    except:\n",
    "      pass\n",
    "    \n",
    "  return(X[:,1:],y.astype('float'))"
   ]
  },
  {
   "cell_type": "code",
   "execution_count": 104,
   "metadata": {},
   "outputs": [],
   "source": [
    "def streak_modelling(X,y):\n",
    "    #  Splitting the dataset into train and test set\n",
    "    x_train, x_test, y_train, y_test = train_test_split(X.T, y, test_size=0.25, random_state=0)\n",
    "\n",
    "    # Normalizing the features before passing it to the model\n",
    "    scaler = StandardScaler().fit(x_train)\n",
    "    x_norm_train = scaler.transform(x_train)\n",
    "    x_norm_test = scaler.transform(x_test)\n",
    "\n",
    "    logisticRegr = LogisticRegression(class_weight='balanced')\n",
    "    logisticRegr.fit(x_norm_train, y_train)\n",
    "    coef = logisticRegr.coef_[0]\n",
    "\n",
    "    y_pred = logisticRegr.predict(x_norm_test)\n",
    "\n",
    "    #   Calculating accuracy of the model\n",
    "    training_accuracy = logisticRegr.score(x_norm_train, y_train)\n",
    "    test_accuracy = logisticRegr.score(x_norm_test, y_test)\n",
    "    print(\"Training accuracy:{:.2f}  Test accuracy:{:.2f}\".format(training_accuracy*100, test_accuracy*100))\n",
    "    # print(\"Precision:{:.2f} Recall:{:.2f}\".format(precision_score(y_pred, y_test)*100,\n",
    "    #                                             recall_score(y_pred, y_test)*100))\n",
    "\n",
    "    #   Calculating roc-auc of the model\n",
    "    roc = roc_auc_score(y_test, y_pred)\n",
    "    print(\"roc-auc score:{:.2f}\".format(roc))\n",
    "    print(\"Coefficients for logistic regression:\")\n",
    "    print(coef)\n",
    "    tn, fp, fn, tp = confusion_matrix(y_test, y_pred).ravel()\n",
    "    print(\"TN:{} FP:{} FN:{} TP:{}\".format(tn, fp, fn, tp))\n",
    "    return training_accuracy, test_accuracy, coef, roc"
   ]
  },
  {
   "cell_type": "code",
   "execution_count": 41,
   "metadata": {},
   "outputs": [
    {
     "name": "stdout",
     "output_type": "stream",
     "text": [
      "Training accuracy:72.48  Test accuracy:73.46\n",
      "roc-auc score:0.54\n",
      "Coefficients for logistic regression:\n",
      "[ 0.47433326  6.32537534  0.31500832 -4.96803493 -0.05989807]\n",
      "TN:148 FP:1653 FN:0 TP:4427\n"
     ]
    }
   ],
   "source": [
    "X, y = get_streak_data(\"mainenlab\", 50, [4, 16, -4, -16])\n",
    "# print(X.shape, y.shape)\n",
    "train_acc, test_acc, coef = streak_modelling(X,y)"
   ]
  },
  {
   "cell_type": "code",
   "execution_count": 39,
   "metadata": {},
   "outputs": [
    {
     "data": {
      "text/html": [
       "<div>\n",
       "<style scoped>\n",
       "    .dataframe tbody tr th:only-of-type {\n",
       "        vertical-align: middle;\n",
       "    }\n",
       "\n",
       "    .dataframe tbody tr th {\n",
       "        vertical-align: top;\n",
       "    }\n",
       "\n",
       "    .dataframe thead th {\n",
       "        text-align: right;\n",
       "    }\n",
       "</style>\n",
       "<table border=\"1\" class=\"dataframe\">\n",
       "  <thead>\n",
       "    <tr style=\"text-align: right;\">\n",
       "      <th></th>\n",
       "      <th>contrast</th>\n",
       "      <th>pos_streak_4</th>\n",
       "      <th>pos_streak_16</th>\n",
       "      <th>neg_streak_4</th>\n",
       "      <th>neg_streak_16</th>\n",
       "    </tr>\n",
       "  </thead>\n",
       "  <tbody>\n",
       "    <tr>\n",
       "      <th>contrast</th>\n",
       "      <td>1.000000</td>\n",
       "      <td>0.013604</td>\n",
       "      <td>0.009546</td>\n",
       "      <td>0.020078</td>\n",
       "      <td>-0.001171</td>\n",
       "    </tr>\n",
       "    <tr>\n",
       "      <th>pos_streak_4</th>\n",
       "      <td>0.013604</td>\n",
       "      <td>1.000000</td>\n",
       "      <td>0.225867</td>\n",
       "      <td>-0.101555</td>\n",
       "      <td>-0.011450</td>\n",
       "    </tr>\n",
       "    <tr>\n",
       "      <th>pos_streak_16</th>\n",
       "      <td>0.009546</td>\n",
       "      <td>0.225867</td>\n",
       "      <td>1.000000</td>\n",
       "      <td>-0.022938</td>\n",
       "      <td>-0.002586</td>\n",
       "    </tr>\n",
       "    <tr>\n",
       "      <th>neg_streak_4</th>\n",
       "      <td>0.020078</td>\n",
       "      <td>-0.101555</td>\n",
       "      <td>-0.022938</td>\n",
       "      <td>1.000000</td>\n",
       "      <td>0.112749</td>\n",
       "    </tr>\n",
       "    <tr>\n",
       "      <th>neg_streak_16</th>\n",
       "      <td>-0.001171</td>\n",
       "      <td>-0.011450</td>\n",
       "      <td>-0.002586</td>\n",
       "      <td>0.112749</td>\n",
       "      <td>1.000000</td>\n",
       "    </tr>\n",
       "  </tbody>\n",
       "</table>\n",
       "</div>"
      ],
      "text/plain": [
       "               contrast  pos_streak_4  pos_streak_16  neg_streak_4  \\\n",
       "contrast       1.000000      0.013604       0.009546      0.020078   \n",
       "pos_streak_4   0.013604      1.000000       0.225867     -0.101555   \n",
       "pos_streak_16  0.009546      0.225867       1.000000     -0.022938   \n",
       "neg_streak_4   0.020078     -0.101555      -0.022938      1.000000   \n",
       "neg_streak_16 -0.001171     -0.011450      -0.002586      0.112749   \n",
       "\n",
       "               neg_streak_16  \n",
       "contrast           -0.001171  \n",
       "pos_streak_4       -0.011450  \n",
       "pos_streak_16      -0.002586  \n",
       "neg_streak_4        0.112749  \n",
       "neg_streak_16       1.000000  "
      ]
     },
     "execution_count": 39,
     "metadata": {},
     "output_type": "execute_result"
    }
   ],
   "source": [
    "column_names=['contrast','pos_streak_4','pos_streak_16','neg_streak_4','neg_streak_16']\n",
    "df=pd.DataFrame(data=X.T, columns=column_names)\n",
    "df.corr()"
   ]
  },
  {
   "cell_type": "code",
   "execution_count": 7,
   "metadata": {},
   "outputs": [
    {
     "name": "stderr",
     "output_type": "stream",
     "text": [
      "[2022-07-23 00:49:52,453][WARNING]: MySQL server has gone away. Reconnecting to the server.\n"
     ]
    },
    {
     "name": "stdout",
     "output_type": "stream",
     "text": [
      "%_trained_mice_considered:10\n",
      "Training accuracy:76.52  Test accuracy:75.75\n",
      "Precision:72.82 Recall:74.70\n",
      "-------------------------------------------------------------------\n",
      "\n",
      "%_trained_mice_considered:20\n",
      "Training accuracy:78.13  Test accuracy:77.02\n",
      "Precision:76.13 Recall:75.39\n",
      "-------------------------------------------------------------------\n",
      "\n",
      "%_trained_mice_considered:30\n",
      "Training accuracy:78.07  Test accuracy:78.44\n",
      "Precision:60.81 Recall:100.00\n",
      "-------------------------------------------------------------------\n",
      "\n",
      "%_trained_mice_considered:40\n",
      "Training accuracy:80.95  Test accuracy:82.08\n",
      "Precision:85.20 Recall:87.43\n",
      "-------------------------------------------------------------------\n",
      "\n",
      "%_trained_mice_considered:50\n",
      "Training accuracy:81.56  Test accuracy:81.71\n",
      "Precision:84.36 Recall:88.16\n",
      "-------------------------------------------------------------------\n",
      "\n",
      "%_trained_mice_considered:60\n",
      "Training accuracy:84.41  Test accuracy:83.80\n",
      "Precision:85.90 Recall:91.30\n",
      "-------------------------------------------------------------------\n",
      "\n",
      "%_trained_mice_considered:70\n",
      "Training accuracy:85.31  Test accuracy:84.56\n",
      "Precision:86.26 Recall:92.66\n",
      "-------------------------------------------------------------------\n",
      "\n",
      "%_trained_mice_considered:80\n",
      "Training accuracy:85.65  Test accuracy:86.23\n",
      "Precision:90.58 Recall:91.30\n",
      "-------------------------------------------------------------------\n",
      "\n",
      "%_trained_mice_considered:90\n",
      "Training accuracy:85.56  Test accuracy:85.70\n",
      "Precision:88.08 Recall:92.75\n",
      "-------------------------------------------------------------------\n",
      "\n"
     ]
    }
   ],
   "source": [
    "pc=np.arange(10,100,10)\n",
    "train=[]\n",
    "test=[]\n",
    "for percentage in pc:\n",
    "    print(\"%_trained_mice_considered:{}\".format(percentage))\n",
    "    data_X, data_y = get_streak_data(\"mainenlab\", percentage, [2,3,-2,-3])\n",
    "    train_acc, test_acc, coef, roc = streak_modelling(data_X,data_y)\n",
    "    train.append(train_acc)\n",
    "    test.append(test_acc)\n",
    "    print(\"-------------------------------------------------------------------\\n\")"
   ]
  },
  {
   "cell_type": "code",
   "execution_count": 8,
   "metadata": {},
   "outputs": [
    {
     "data": {
      "text/plain": [
       "<AxesSubplot:xlabel='%_trained'>"
      ]
     },
     "execution_count": 8,
     "metadata": {},
     "output_type": "execute_result"
    },
    {
     "data": {
      "image/png": "[encoded data removed]",
      "text/plain": [
       "<Figure size 432x288 with 1 Axes>"
      ]
     },
     "metadata": {
      "needs_background": "light"
     },
     "output_type": "display_data"
    }
   ],
   "source": [
    "data_for_acc_vs_percentage_trained = {\"%_trained\":pc,\n",
    "                                      \"train_accuracy\": train,\n",
    "                                      \"test_accuracy\": test}\n",
    "df = pd.DataFrame(data_for_acc_vs_percentage_trained).set_index(\"%_trained\")\n",
    "# df.head(10)\n",
    "sns.lineplot(data=df)"
   ]
  },
  {
   "cell_type": "markdown",
   "metadata": {},
   "source": [
    "## Method 2: Using streak length (pos + neg) as features"
   ]
  },
  {
   "cell_type": "code",
   "execution_count": 42,
   "metadata": {},
   "outputs": [],
   "source": [
    "def get_streak_length(lab, percentage):\n",
    "  lab_mice_in_training = behavior_analyses.SessionTrainingStatus & 'training_status = \"in_training\" ' & (subject.SubjectLab & 'lab_name = \"{}\"'.format(lab)) \n",
    "  lab_mice = np.unique(lab_mice_in_training.fetch('subject_uuid'))\n",
    "\n",
    "  id = lab_mice_in_training.fetch('subject_uuid')\n",
    "  training_days = np.zeros_like(lab_mice)\n",
    "\n",
    "  for idx, mouse in enumerate(lab_mice):\n",
    "    training_days[idx] = len(np.where(id == mouse)[0])\n",
    "\n",
    "  dictionary = fetch_mice_by_percentage(lab_mice,lab_mice_in_training,percentage)\n",
    "  # print(dictionary)\n",
    "\n",
    "  X_0=[]\n",
    "  X_1=[]\n",
    "  X_2=[]\n",
    "\n",
    "  y = []\n",
    "  for mouse in lab_mice:\n",
    "    try:\n",
    "      for i in range(len(dictionary[mouse])):\n",
    "        session, contrast_left, contrast_right = ((behavior.TrialSet.Trial & {'subject_uuid' : mouse} & {'trial_stim_prob_left': 0.5}) & {'session_start_time' : dictionary[mouse][i]}).fetch('trial_feedback_type',\n",
    "        'trial_stim_contrast_left',\n",
    "        'trial_stim_contrast_right')\n",
    "        \n",
    "        x_0 = contrast_left + contrast_right\n",
    "        x_pos = [length_last_streak(session,j,1) for j in range(len(session))]\n",
    "        x_neg = [length_last_streak(session,j,-1) for j in range(len(session))]\n",
    "\n",
    "        X_0 = np.append(X_0,x_0)\n",
    "        X_1 = np.append(X_1,x_pos)\n",
    "        X_2 = np.append(X_2,x_neg)\n",
    "\n",
    "        y = np.append(y,session)\n",
    "    except:\n",
    "      pass\n",
    "  X = np.vstack((X_0,X_1,X_2))\n",
    "  X = X.astype(\"float\")\n",
    "  y = y.astype(\"float\")\n",
    "\n",
    "  return (X, y)"
   ]
  },
  {
   "cell_type": "code",
   "execution_count": 105,
   "metadata": {},
   "outputs": [
    {
     "name": "stdout",
     "output_type": "stream",
     "text": [
      "Training accuracy:53.36  Test accuracy:55.69\n",
      "roc-auc score:0.56\n",
      "Coefficients for logistic regression:\n",
      "[ 0.0414307   0.07756401 -0.1988722 ]\n",
      "TN:607 FP:1213 FN:395 TP:1414\n"
     ]
    }
   ],
   "source": [
    "X,y = get_streak_length(\"mainenlab\", 20)\n",
    "# print(X.shape,y.shape)\n",
    "train_acc, test_acc, coef, roc = streak_modelling(X,y)"
   ]
  },
  {
   "cell_type": "code",
   "execution_count": 106,
   "metadata": {},
   "outputs": [
    {
     "name": "stdout",
     "output_type": "stream",
     "text": [
      "%_trained_mice_considered:10\n",
      "Training accuracy:51.10  Test accuracy:52.23\n",
      "roc-auc score:0.53\n",
      "Coefficients for logistic regression:\n",
      "[-0.00432052 -0.02659777 -0.1649979 ]\n",
      "TN:287 FP:530 FN:218 TP:531\n",
      "----\n",
      "%_trained_mice_considered:20\n",
      "Training accuracy:53.36  Test accuracy:55.69\n",
      "roc-auc score:0.56\n",
      "Coefficients for logistic regression:\n",
      "[ 0.0414307   0.07756401 -0.1988722 ]\n",
      "TN:607 FP:1213 FN:395 TP:1414\n",
      "----\n",
      "%_trained_mice_considered:30\n",
      "Training accuracy:56.17  Test accuracy:56.51\n",
      "roc-auc score:0.55\n",
      "Coefficients for logistic regression:\n",
      "[ 0.00487946  0.19623909 -0.27534375]\n",
      "TN:776 FP:848 FN:885 TP:1476\n",
      "----\n",
      "%_trained_mice_considered:40\n",
      "Training accuracy:59.56  Test accuracy:58.67\n",
      "roc-auc score:0.55\n",
      "Coefficients for logistic regression:\n",
      "[ 0.07517653  0.21317824 -0.23083865]\n",
      "TN:992 FP:1228 FN:1457 TP:2819\n",
      "----\n",
      "%_trained_mice_considered:50\n",
      "Training accuracy:57.84  Test accuracy:56.79\n",
      "roc-auc score:0.55\n",
      "Coefficients for logistic regression:\n",
      "[ 0.15133952  0.21605251 -0.20850356]\n",
      "TN:929 FP:880 FN:1789 TP:2579\n",
      "----\n",
      "%_trained_mice_considered:60\n",
      "Training accuracy:58.20  Test accuracy:57.31\n",
      "roc-auc score:0.57\n",
      "Coefficients for logistic regression:\n",
      "[ 0.22304783  0.19862316 -0.321884  ]\n",
      "TN:1019 FP:790 FN:2133 TP:2905\n",
      "----\n",
      "%_trained_mice_considered:70\n",
      "Training accuracy:56.80  Test accuracy:55.76\n",
      "roc-auc score:0.58\n",
      "Coefficients for logistic regression:\n",
      "[ 0.38609825  0.17038783 -0.16634914]\n",
      "TN:1166 FP:714 FN:2808 TP:3273\n",
      "----\n",
      "%_trained_mice_considered:80\n",
      "Training accuracy:57.80  Test accuracy:57.57\n",
      "roc-auc score:0.61\n",
      "Coefficients for logistic regression:\n",
      "[ 0.51309168  0.18795316 -0.11532554]\n",
      "TN:1544 FP:717 FN:3283 TP:3883\n",
      "----\n",
      "%_trained_mice_considered:90\n",
      "Training accuracy:53.08  Test accuracy:53.03\n",
      "roc-auc score:0.61\n",
      "Coefficients for logistic regression:\n",
      "[ 0.53333691  0.16458231 -0.15898633]\n",
      "TN:1154 FP:337 FN:2528 TP:2081\n",
      "----\n"
     ]
    }
   ],
   "source": [
    "pc=np.arange(10,100,10)\n",
    "train=[]\n",
    "test=[]\n",
    "coef_contrast=[]\n",
    "coef_pos_streak=[]\n",
    "coef_neg_streak=[]\n",
    "roc_list=[]\n",
    "for percentage in pc:\n",
    "    print(\"%_trained_mice_considered:{}\".format(percentage))\n",
    "    data_X, data_y = get_streak_length(\"mainenlab\", percentage)\n",
    "    train_acc, test_acc, coef, roc = streak_modelling(data_X, data_y)\n",
    "\n",
    "    train.append(train_acc)\n",
    "    test.append(test_acc)\n",
    "\n",
    "    coef_contrast.append(coef[0])\n",
    "    coef_pos_streak.append(coef[1])\n",
    "    coef_neg_streak.append(coef[2])\n",
    "    roc_list.append(roc)\n",
    "    print(\"----\")"
   ]
  },
  {
   "cell_type": "code",
   "execution_count": 116,
   "metadata": {},
   "outputs": [
    {
     "data": {
      "image/png": "[encoded data removed]",
      "text/plain": [
       "<Figure size 648x432 with 1 Axes>"
      ]
     },
     "metadata": {},
     "output_type": "display_data"
    }
   ],
   "source": [
    "data_for_acc_vs_percentage_trained = {\"%_trained\":pc,\n",
    "                                      \"train_accuracy\": train,\n",
    "                                      \"test_accuracy\": test,\n",
    "                                      \"roc-auc\": roc_list}\n",
    "                                      \n",
    "df = pd.DataFrame(data_for_acc_vs_percentage_trained).set_index(\"%_trained\")\n",
    "\n",
    "plt.figure(figsize=(9,6))\n",
    "ax = sns.lineplot(data=df)\n",
    "ax.set_ylabel(\"Metrics\")\n",
    "plt.savefig(\"./plots/acc_vs_percentage.png\")\n",
    "plt.show()"
   ]
  },
  {
   "cell_type": "code",
   "execution_count": 117,
   "metadata": {},
   "outputs": [
    {
     "data": {
      "image/png": "[encoded data removed]",
      "text/plain": [
       "<Figure size 648x432 with 1 Axes>"
      ]
     },
     "metadata": {},
     "output_type": "display_data"
    }
   ],
   "source": [
    "data_for_wts_vs_percentage_trained = {\"%_trained\":pc,\n",
    "                                      \"contrast\": coef_contrast,\n",
    "                                      \"pos_streaks\": coef_pos_streak,\n",
    "                                      \"neg_streak\": coef_neg_streak}\n",
    "                                      \n",
    "df1 = pd.DataFrame(data_for_wts_vs_percentage_trained).set_index(\"%_trained\")\n",
    "\n",
    "plt.figure(figsize=(9,6))\n",
    "ax = sns.lineplot(data=df1)\n",
    "ax.set_ylabel(\"Feature_weights\")\n",
    "plt.savefig(\"./plots/weights_vs_percentage.png\")\n",
    "plt.show()"
   ]
  }
 ],
 "metadata": {
  "kernelspec": {
   "display_name": "Python 3.7.12 ('rl')",
   "language": "python",
   "name": "python3"
  },
  "language_info": {
   "codemirror_mode": {
    "name": "ipython",
    "version": 3
   },
   "file_extension": ".py",
   "mimetype": "text/x-python",
   "name": "python",
   "nbconvert_exporter": "python",
   "pygments_lexer": "ipython3",
   "version": "3.7.12"
  },
  "orig_nbformat": 4,
  "vscode": {
   "interpreter": {
    "hash": "83599f69252efe161ce8bdc00ce77d89a8b50b97e2c94be642d5762cc132c974"
   }
  }
 },
 "nbformat": 4,
 "nbformat_minor": 2
}
