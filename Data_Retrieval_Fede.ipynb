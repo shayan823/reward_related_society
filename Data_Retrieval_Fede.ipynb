{
  "cells": [
    {
      "cell_type": "markdown",
      "metadata": {
        "id": "view-in-github",
        "colab_type": "text"
      },
      "source": [
        "<a href=\"https://colab.research.google.com/github/shayan823/reward_related_society/blob/main/Data_Retrieval_Fede.ipynb\" target=\"_parent\"><img src=\"https://colab.research.google.com/assets/colab-badge.svg\" alt=\"Open In Colab\"/></a>"
      ]
    },
    {
      "cell_type": "markdown",
      "metadata": {
        "id": "GOvCKtUW7o4d"
      },
      "source": [
        "Let's start this project! \n",
        "Setting it up first and downloading  the data"
      ]
    },
    {
      "cell_type": "code",
      "execution_count": 1,
      "metadata": {
        "id": "OGZCQ1J3BWmD",
        "colab": {
          "base_uri": "https://localhost:8080/"
        },
        "outputId": "7e08aa99-577a-4384-f9af-0761d55616dc"
      },
      "outputs": [
        {
          "output_type": "stream",
          "name": "stdout",
          "text": [
            "\u001b[?25l\r\u001b[K     |███▎                            | 10 kB 22.7 MB/s eta 0:00:01\r\u001b[K     |██████▌                         | 20 kB 29.5 MB/s eta 0:00:01\r\u001b[K     |█████████▊                      | 30 kB 36.2 MB/s eta 0:00:01\r\u001b[K     |█████████████                   | 40 kB 23.6 MB/s eta 0:00:01\r\u001b[K     |████████████████▏               | 51 kB 17.1 MB/s eta 0:00:01\r\u001b[K     |███████████████████▍            | 61 kB 19.3 MB/s eta 0:00:01\r\u001b[K     |██████████████████████▋         | 71 kB 20.0 MB/s eta 0:00:01\r\u001b[K     |█████████████████████████▉      | 81 kB 21.7 MB/s eta 0:00:01\r\u001b[K     |█████████████████████████████   | 92 kB 23.8 MB/s eta 0:00:01\r\u001b[K     |████████████████████████████████| 101 kB 9.1 MB/s \n",
            "\u001b[K     |████████████████████████████████| 76 kB 5.4 MB/s \n",
            "\u001b[K     |████████████████████████████████| 4.1 MB 66.4 MB/s \n",
            "\u001b[K     |████████████████████████████████| 43 kB 2.3 MB/s \n",
            "\u001b[K     |████████████████████████████████| 78 kB 5.9 MB/s \n",
            "\u001b[?25h"
          ]
        }
      ],
      "source": [
        "# install IBL pipeline package to access and navigate the pipeline\n",
        "!pip install --quiet nma-ibl\n",
        "#pip install ibllib\n",
        "import datajoint as dj\n",
        "import numpy as np\n",
        "import matplotlib.pyplot as plt\n",
        "\n",
        "#from one.api import ONE\n",
        "#one = ONE(silent=True)\n",
        "\n",
        "\n",
        "dj.config[\"database.host\"] = \"datajoint-public.internationalbrainlab.org\"\n",
        "dj.config[\"database.user\"] = \"ibl-public\"\n",
        "dj.config[\"database.password\"] = \"ibl-public\" "
      ]
    },
    {
      "cell_type": "markdown",
      "metadata": {
        "id": "bRRILMaQBaql"
      },
      "source": [
        "1. Meta data stored and imported from [**Alyx**](https://alyx.readthedocs.io/en/latest/):\n",
        "\n",
        "    1) `ibl_reference`: general information about labs, users and projects  \n",
        "    2) `ibl_subject`: information about the experiment subject including housing and genetics  \n",
        "    3) `ibl_action`: information about performed surgeries\n",
        "    4) `ibl_acquisition`: information about experimental sessions\n",
        "    5) `ibl_data`: information pertaining to underlying data resource handling  \n",
        "    \n",
        "2. Behavioral data stored and imported from **FlatIron** data stores: `ibl_behavior` - trial information of the task.\n",
        "3. Computed alalysis results on the behavioral data: `ibl_analyses_behavior`    "
      ]
    },
    {
      "cell_type": "code",
      "execution_count": 2,
      "metadata": {
        "id": "C4Db-kvj7IaG",
        "colab": {
          "base_uri": "https://localhost:8080/"
        },
        "outputId": "526b0e91-5004-4339-d611-22ae250b9303"
      },
      "outputs": [
        {
          "output_type": "stream",
          "name": "stderr",
          "text": [
            "[2022-07-22 13:02:04,739][INFO]: Connecting ibl-public@datajoint-public.internationalbrainlab.org:3306\n",
            "[2022-07-22 13:02:04,990][INFO]: Connected ibl-public@datajoint-public.internationalbrainlab.org:3306\n"
          ]
        }
      ],
      "source": [
        "# Load tables\n",
        "from nma_ibl import reference, subject, action, acquisition, data, behavior, behavior_analyses"
      ]
    },
    {
      "cell_type": "code",
      "source": [
        "labs = subject.SubjectLab.fetch('lab_name')\n",
        "\n",
        "lab_names = np.unique(labs)\n",
        "counts = np.zeros_like(lab_names)\n",
        "\n",
        "for idx, lab in enumerate(lab_names):\n",
        "  counts[idx] = len(np.where(labs==lab)[0])\n",
        "\n",
        "print('The lab with more mice is', lab_names[np.argmax(counts)], 'with', np.max(counts), 'mice')\n",
        "\n",
        "counts\n",
        "lab_names"
      ],
      "metadata": {
        "colab": {
          "base_uri": "https://localhost:8080/"
        },
        "id": "qtd0l3B-iAae",
        "outputId": "ee748e78-81f9-44e1-f285-e22b5d0c3d3b"
      },
      "execution_count": 48,
      "outputs": [
        {
          "output_type": "execute_result",
          "data": {
            "text/plain": [
              "array([26, 29, 4, 27, 17, 23, 41, 21, 24, 21], dtype=object)"
            ]
          },
          "metadata": {},
          "execution_count": 48
        }
      ]
    },
    {
      "cell_type": "markdown",
      "source": [
        "## Calculate training days for each mice in mainenlab"
      ],
      "metadata": {
        "id": "2hp3zql0OgCD"
      }
    },
    {
      "cell_type": "code",
      "source": [
        "# Calculate total days until training for each mouse\n",
        "\n",
        "(behavior_analyses.SessionTrainingStatus()) * subject.SubjectLab & 'lab_name = \"mainenlab\"'\n",
        "\n",
        "\n",
        "mainen_mice_in_training = behavior_analyses.SessionTrainingStatus & 'training_status = \"in_training\" ' & (subject.SubjectLab & 'lab_name = \"mainenlab\"') \n",
        "mainen_mice = np.unique(mainen_mice_in_training.fetch('subject_uuid'))\n",
        "\n",
        "\n",
        "id = mainen_mice_in_training.fetch('subject_uuid')\n",
        "training_days = np.zeros_like(mainen_mice)\n",
        "\n",
        "for idx, mouse in enumerate(mainen_mice):\n",
        "  training_days[idx] = len(np.where(id == mouse)[0])\n",
        "\n",
        "plt.title('Total training sessions distribution for Mainen Lab (Total = 33 mice)')\n",
        "plt.xlabel('Training days')\n",
        "plt.ylabel('Mice count')\n",
        "plt.hist(training_days)\n",
        "plt.grid()\n"
      ],
      "metadata": {
        "colab": {
          "base_uri": "https://localhost:8080/",
          "height": 295
        },
        "id": "RSUiN8thOAAh",
        "outputId": "dc562ab5-82c1-494e-983d-1b639c5a99de"
      },
      "execution_count": 4,
      "outputs": [
        {
          "output_type": "display_data",
          "data": {
            "text/plain": [
              "<Figure size 432x288 with 1 Axes>"
            ],
            "image/png": "[encoded data removed]"
          },
          "metadata": {
            "needs_background": "light"
          }
        }
      ]
    },
    {
      "cell_type": "code",
      "source": [
        "def fetch_mice_by_percentage(percentage):\n",
        "  dictionary = {}\n",
        "\n",
        "  for mouse in mainen_mice:\n",
        "    one_guy = mainen_mice_in_training & {'subject_uuid' : mouse}\n",
        "    total_trials = len(one_guy.fetch('training_status'))\n",
        "    train_percentage = np.arange(1,total_trials+1) / total_trials\n",
        "    train_percentage_bin = ((train_percentage // 0.1) + 1)*10\n",
        "    where = np.where(train_percentage_bin == percentage)[0]\n",
        "    if len(where) !=0:\n",
        "      dictionary[mouse] = one_guy.fetch('session_start_time')[where]\n",
        "  return dictionary\n",
        "  "
      ],
      "metadata": {
        "id": "03aWgqRaIYcX"
      },
      "execution_count": 110,
      "outputs": []
    },
    {
      "cell_type": "code",
      "source": [
        "fetch_mice_by_percentage(20)[mouse]"
      ],
      "metadata": {
        "colab": {
          "base_uri": "https://localhost:8080/"
        },
        "id": "ylBP95tVILQB",
        "outputId": "ba53ad70-f35c-4b26-e936-271020057dc6"
      },
      "execution_count": 112,
      "outputs": [
        {
          "output_type": "execute_result",
          "data": {
            "text/plain": [
              "array([datetime.datetime(2019, 11, 19, 15, 10, 23),\n",
              "       datetime.datetime(2019, 11, 20, 15, 30, 41)], dtype=object)"
            ]
          },
          "metadata": {},
          "execution_count": 112
        }
      ]
    },
    {
      "cell_type": "code",
      "source": [
        "mainen_mice_in_training"
      ],
      "metadata": {
        "colab": {
          "base_uri": "https://localhost:8080/",
          "height": 425
        },
        "id": "8YHGopU1bLqX",
        "outputId": "43eb7ba9-ad56-4442-fa67-32366e610548"
      },
      "execution_count": null,
      "outputs": [
        {
          "output_type": "execute_result",
          "data": {
            "text/plain": [
              "*subject_uuid  *session_start training_statu good_enough_fo\n",
              "+------------+ +------------+ +------------+ +------------+\n",
              "034fd43f-ee35- 2019-01-23 13: in_training    0             \n",
              "034fd43f-ee35- 2019-01-24 16: in_training    0             \n",
              "034fd43f-ee35- 2019-01-25 14: in_training    None          \n",
              "034fd43f-ee35- 2019-01-28 14: in_training    None          \n",
              "034fd43f-ee35- 2019-01-29 15: in_training    None          \n",
              "034fd43f-ee35- 2019-01-30 14: in_training    None          \n",
              "034fd43f-ee35- 2019-01-31 15: in_training    None          \n",
              "034fd43f-ee35- 2019-02-01 14: in_training    None          \n",
              "13e59361-a2e8- 2019-01-29 17: in_training    None          \n",
              "13e59361-a2e8- 2019-01-30 16: in_training    None          \n",
              "13e59361-a2e8- 2019-01-31 17: in_training    None          \n",
              "13e59361-a2e8- 2019-02-01 16: in_training    None          \n",
              "   ...\n",
              " (Total: 451)"
            ],
            "text/html": [
              "\n",
              "    \n",
              "    <style type=\"text/css\">\n",
              "        .Relation{\n",
              "            border-collapse:collapse;\n",
              "        }\n",
              "        .Relation th{\n",
              "            background: #A0A0A0; color: #ffffff; padding:4px; border:#f0e0e0 1px solid;\n",
              "            font-weight: normal; font-family: monospace; font-size: 100%;\n",
              "        }\n",
              "        .Relation td{\n",
              "            padding:4px; border:#f0e0e0 1px solid; font-size:100%;\n",
              "        }\n",
              "        .Relation tr:nth-child(odd){\n",
              "            background: #ffffff;\n",
              "        }\n",
              "        .Relation tr:nth-child(even){\n",
              "            background: #f3f1ff;\n",
              "        }\n",
              "        /* Tooltip container */\n",
              "        .djtooltip {\n",
              "        }\n",
              "        /* Tooltip text */\n",
              "        .djtooltip .djtooltiptext {\n",
              "            visibility: hidden;\n",
              "            width: 120px;\n",
              "            background-color: black;\n",
              "            color: #fff;\n",
              "            text-align: center;\n",
              "            padding: 5px 0;\n",
              "            border-radius: 6px;\n",
              "            /* Position the tooltip text - see examples below! */\n",
              "            position: absolute;\n",
              "            z-index: 1;\n",
              "        }\n",
              "        #primary {\n",
              "            font-weight: bold;\n",
              "            color: black;\n",
              "        }\n",
              "        #nonprimary {\n",
              "            font-weight: normal;\n",
              "            color: white;\n",
              "        }\n",
              "\n",
              "        /* Show the tooltip text when you mouse over the tooltip container */\n",
              "        .djtooltip:hover .djtooltiptext {\n",
              "            visibility: visible;\n",
              "        }\n",
              "    </style>\n",
              "    \n",
              "    <b></b>\n",
              "        <div style=\"max-height:1000px;max-width:1500px;overflow:auto;\">\n",
              "        <table border=\"1\" class=\"Relation\">\n",
              "            <thead> <tr style=\"text-align: right;\"> <th> <div class=\"djtooltip\">\n",
              "                            <p id=\"primary\">subject_uuid</p>\n",
              "                            <span class=\"djtooltiptext\"></span>\n",
              "                        </div></th><th><div class=\"djtooltip\">\n",
              "                            <p id=\"primary\">session_start_time</p>\n",
              "                            <span class=\"djtooltiptext\">start time</span>\n",
              "                        </div></th><th><div class=\"djtooltip\">\n",
              "                            <p id=\"nonprimary\">training_status</p>\n",
              "                            <span class=\"djtooltiptext\"></span>\n",
              "                        </div></th><th><div class=\"djtooltip\">\n",
              "                            <p id=\"nonprimary\">good_enough_for_brainwide_map</p>\n",
              "                            <span class=\"djtooltiptext\"></span>\n",
              "                        </div> </th> </tr> </thead>\n",
              "            <tbody> <tr> <td>034fd43f-ee35-450b-99ef-25475ce25fdc</td>\n",
              "<td>2019-01-23 13:22:12</td>\n",
              "<td>in_training</td>\n",
              "<td>0</td></tr><tr><td>034fd43f-ee35-450b-99ef-25475ce25fdc</td>\n",
              "<td>2019-01-24 16:40:45</td>\n",
              "<td>in_training</td>\n",
              "<td>0</td></tr><tr><td>034fd43f-ee35-450b-99ef-25475ce25fdc</td>\n",
              "<td>2019-01-25 14:23:53</td>\n",
              "<td>in_training</td>\n",
              "<td>None</td></tr><tr><td>034fd43f-ee35-450b-99ef-25475ce25fdc</td>\n",
              "<td>2019-01-28 14:47:48</td>\n",
              "<td>in_training</td>\n",
              "<td>None</td></tr><tr><td>034fd43f-ee35-450b-99ef-25475ce25fdc</td>\n",
              "<td>2019-01-29 15:51:31</td>\n",
              "<td>in_training</td>\n",
              "<td>None</td></tr><tr><td>034fd43f-ee35-450b-99ef-25475ce25fdc</td>\n",
              "<td>2019-01-30 14:54:20</td>\n",
              "<td>in_training</td>\n",
              "<td>None</td></tr><tr><td>034fd43f-ee35-450b-99ef-25475ce25fdc</td>\n",
              "<td>2019-01-31 15:07:10</td>\n",
              "<td>in_training</td>\n",
              "<td>None</td></tr><tr><td>034fd43f-ee35-450b-99ef-25475ce25fdc</td>\n",
              "<td>2019-02-01 14:16:08</td>\n",
              "<td>in_training</td>\n",
              "<td>None</td></tr><tr><td>13e59361-a2e8-4e2d-8636-ae0961fd941c</td>\n",
              "<td>2019-01-29 17:27:21</td>\n",
              "<td>in_training</td>\n",
              "<td>None</td></tr><tr><td>13e59361-a2e8-4e2d-8636-ae0961fd941c</td>\n",
              "<td>2019-01-30 16:44:42</td>\n",
              "<td>in_training</td>\n",
              "<td>None</td></tr><tr><td>13e59361-a2e8-4e2d-8636-ae0961fd941c</td>\n",
              "<td>2019-01-31 17:20:10</td>\n",
              "<td>in_training</td>\n",
              "<td>None</td></tr><tr><td>13e59361-a2e8-4e2d-8636-ae0961fd941c</td>\n",
              "<td>2019-02-01 16:43:22</td>\n",
              "<td>in_training</td>\n",
              "<td>None</td> </tr> </tbody>\n",
              "        </table>\n",
              "        <p>...</p>\n",
              "        <p>Total: 451</p></div>\n",
              "        "
            ]
          },
          "metadata": {},
          "execution_count": 49
        }
      ]
    },
    {
      "cell_type": "code",
      "source": [
        "dictionary = fetch_mice_by_percentage(20)\n",
        "#this is how one session looks\n",
        "one_session, contrast_left, contrast_right = ((behavior.TrialSet.Trial & {'subject_uuid' : mouse}) & {'session_start_time' : dictionary[mouse][0]}).fetch('trial_feedback_type','trial_stim_contrast_left','trial_stim_contrast_right')\n",
        "one_session\n"
      ],
      "metadata": {
        "colab": {
          "base_uri": "https://localhost:8080/"
        },
        "id": "Yx_MqL5ZbBMn",
        "outputId": "622c3161-3ac0-415e-b636-ca69581518db"
      },
      "execution_count": 114,
      "outputs": [
        {
          "output_type": "execute_result",
          "data": {
            "text/plain": [
              "array([1, 1, -1, 1, 1, -1, -1, -1, 1, 1, -1, 1, 1, -1, -1, 1, -1, -1, 1,\n",
              "       1, -1, 1, -1, -1, -1, -1, 1, 1, -1, 1, -1, -1, -1, -1, 1, 1, 1, 1,\n",
              "       -1, -1, -1, -1, -1, -1, 1, -1, 1, 1, -1, -1, 1, -1, 1, 1, -1, -1,\n",
              "       1, -1, 1, -1, 1, -1, -1, -1, 1, -1, 1, -1, 1, -1, 1, 1, -1, -1, -1,\n",
              "       1, 1, -1, 1, 1, -1, 1, -1, -1, -1, 1, -1, 1, 1, 1, -1, -1, 1, 1,\n",
              "       -1, -1, -1, 1, -1, -1, 1, 1, -1, -1, 1, -1, -1, 1, 1, -1, -1, 1, 1,\n",
              "       1, 1, 1, -1, -1, 1, 1, -1, 1, 1, -1, -1, -1, 1, -1, -1, -1, 1, 1,\n",
              "       1, 1, 1, 1, 1, -1, -1, 1, 1, 1, 1, -1, 1, 1, -1, -1, 1, -1, 1, 1,\n",
              "       1, -1, 1, -1, 1, 1, -1, 1, -1, 1, 1, 1, 1, -1, 1, 1, -1, -1, -1, 1,\n",
              "       -1, 1, -1, -1, 1, 1, -1, -1, -1, -1, 1, 1, -1, 1, -1, 1, -1, 1, -1,\n",
              "       1, -1, 1, 1, -1, -1, -1, -1, -1, 1, 1, -1, -1, -1, 1, 1, -1, 1, 1,\n",
              "       -1, -1, -1, 1, -1, -1, -1, 1, -1, -1, -1, 1, -1, 1, 1, 1, -1, 1,\n",
              "       -1, 1, -1, -1, 1, 1, 1, 1, 1, -1, -1, -1, -1, 1, -1, -1, -1, 1, 1,\n",
              "       1, -1, -1, 1, -1, -1, 1, -1, 1, 1, -1, 1, 1, 1, 1, -1, -1, -1, -1,\n",
              "       -1, -1, -1, 1, -1, 1, 1, 1, 1, -1, -1, 1, 1, -1, -1, 1, 1, 1, 1, 1,\n",
              "       1, -1, -1, -1, 1, -1, -1, -1, 1, 1, -1, -1, 1, 1, 1, 1, -1, 1, 1,\n",
              "       1, -1, -1, -1, 1, 1, -1, 1, -1, -1, -1, -1, 1, -1, -1, 1, 1, -1,\n",
              "       -1, 1, 1, -1, 1, 1, 1, -1, -1, -1, -1, 1, -1, -1, -1, 1, 1, -1, -1,\n",
              "       1, -1, 1, -1, -1, 1, 1, -1, -1, -1, 1, 1, -1, -1, 1, -1, -1, -1, 1,\n",
              "       1, -1, -1, -1, 1, 1, -1, 1, 1, -1, 1, 1, -1, -1, -1, 1, 1, -1, -1,\n",
              "       -1, 1, -1, -1, -1, 1, 1, -1, 1, 1, -1, 1, -1, -1, 1, -1, 1, -1, -1,\n",
              "       -1, -1, -1, -1, 1, 1, 1, -1, -1, -1, -1, 1, 1, 1, 1, -1, -1, 1, -1,\n",
              "       1, -1, 1, 1, 1, -1, 1, 1, -1, 1, -1, 1, 1, 1, 1, 1, 1, -1, 1, 1, 1,\n",
              "       -1, 1, -1, -1, -1, -1, 1, 1, -1, 1, -1, 1, -1, -1, 1, -1, 1, -1, 1,\n",
              "       -1, 1, 1, -1, -1, -1, -1, 1, -1, 1, 1, 1, -1, 1, -1, -1, -1, 1, -1,\n",
              "       -1, 1, -1, -1, 1, -1, -1, -1, -1, 1, 1, -1, -1, 1, 1, 1, -1, 1, -1,\n",
              "       1, -1, 1, 1, -1, -1, -1, -1, -1, -1, 1, -1, -1, 1, -1, 1, -1, -1,\n",
              "       1, -1, 1, -1, -1, -1, 1, -1, -1, 1, -1, 1, 1, -1, 1, -1, -1, 1, -1,\n",
              "       1, -1, -1, 1, 1, 1, 1, 1, -1, -1, -1, -1, -1, -1, 1, 1, -1, -1, -1,\n",
              "       1, -1, -1, -1, 1, 1, -1, 1, 1, 1, -1, -1, -1, -1, 1, -1, -1, 1, -1,\n",
              "       1, 1, -1, -1, 1, -1, -1, 1, -1, 1, -1, -1, 1, 1, 1, -1, 1, -1, 1,\n",
              "       -1, -1, 1, 1, 1, -1, 1, -1, -1, -1, -1, 1, 1, -1, -1, -1, -1, -1,\n",
              "       1, -1, -1, 1, 1, 1, -1, -1, 1, 1, 1, 1, -1, 1, 1, -1, 1, 1, 1, -1,\n",
              "       1, -1, -1, 1, 1, -1, 1, -1, 1, 1, -1, 1, 1, -1, 1, 1, -1, -1, 1,\n",
              "       -1, -1, 1, -1, 1, -1, 1, -1, -1, -1, -1, -1, -1, -1, -1, 1, 1, 1,\n",
              "       -1, -1, 1, -1, 1, -1, 1, 1, -1, 1, -1, 1, 1, 1, -1, -1, -1, -1, 1,\n",
              "       -1, 1, -1, -1, -1, -1, 1, 1, -1, -1, -1, 1, -1, 1, -1, -1, -1, 1,\n",
              "       -1, 1, -1, -1, -1, -1, 1, 1, -1, 1, 1, 1, 1, 1, -1, -1, -1, 1, -1,\n",
              "       1, 1, 1, 1, -1, -1, 1, -1, -1, 1, 1, 1, 1, 1, -1, -1, -1, 1, -1, 1,\n",
              "       1, -1, -1, -1, 1, 1, -1, -1, 1, 1, -1, 1, -1, -1, -1, 1, 1, -1, 1,\n",
              "       1, -1, 1, 1, 1, 1, -1, -1, 1, -1, -1, -1, -1, -1, -1, -1, 1, -1,\n",
              "       -1, -1, -1, -1, -1, -1, 1, -1, -1, 1], dtype=object)"
            ]
          },
          "metadata": {},
          "execution_count": 114
        }
      ]
    },
    {
      "cell_type": "code",
      "source": [
        "#the function gives 1 for the first array\n",
        "str_length = 2\n",
        "feedback = 1     # 1 for reward streak, -1 for  \n",
        "search_sequence(one_session,2,1)"
      ],
      "metadata": {
        "colab": {
          "base_uri": "https://localhost:8080/"
        },
        "id": "LsQpy21vfsbF",
        "outputId": "6d6d4a0d-4f9e-42ac-9e6c-4538c23b00db"
      },
      "execution_count": 13,
      "outputs": [
        {
          "output_type": "execute_result",
          "data": {
            "text/plain": [
              "array([1., 0., 0., 0., 0., 0., 0., 0., 0., 0., 0., 0., 0., 0., 0., 0., 0.,\n",
              "       0., 0., 0., 0., 0., 0., 0., 0., 0., 0., 0., 0., 0., 0., 0., 0., 0.,\n",
              "       1., 1., 0., 0., 1., 1., 1., 0., 0., 0., 1., 0., 0., 0., 0., 1., 1.,\n",
              "       0., 0., 0., 0., 0., 0., 0., 1., 0., 0., 0., 0., 0., 0., 0., 0., 0.,\n",
              "       0., 1., 0., 0., 0., 0., 1., 1., 1., 0., 0., 0., 0., 0., 0., 0., 0.,\n",
              "       0., 0., 0., 0., 0., 0., 0., 0., 0., 0., 0., 0., 0., 0., 0., 0., 0.,\n",
              "       0., 0., 0., 0., 0., 0., 0., 0., 0., 0., 0., 0., 0., 1., 0., 0., 0.,\n",
              "       0., 0., 0., 1., 0., 0., 0., 0., 0., 1., 0., 0., 1., 0., 0., 0., 0.,\n",
              "       0., 0., 0., 1., 0., 0., 0., 1., 0., 0., 0., 0., 0., 0., 0., 0., 0.,\n",
              "       0., 0., 0., 0., 0., 0., 0., 0., 0., 0., 0., 0., 0., 1., 0., 0., 0.,\n",
              "       0., 1., 0., 0., 1., 0., 0., 0., 0., 1., 1., 1., 0., 0., 0., 1., 1.,\n",
              "       1., 0., 0., 1., 1., 0., 0., 0., 0., 1., 0., 0., 0., 0., 0., 0., 1.,\n",
              "       1., 1., 0., 0., 0., 1., 0., 0., 1., 0., 0., 0., 0., 0., 0., 0., 0.,\n",
              "       0., 0., 1., 0., 0., 1., 1., 0., 0., 0., 0., 1., 0., 0., 0., 0., 0.,\n",
              "       0., 1., 0., 0., 0., 0., 0., 1., 1., 0., 0., 0., 0., 0., 1., 1., 0.,\n",
              "       0., 1., 0., 0., 0., 0., 0., 0., 1., 0., 0., 0., 0., 0., 0., 1., 0.,\n",
              "       0., 0., 0., 1., 0., 0., 0., 1., 1., 1., 0., 0., 0., 0., 0., 0., 1.,\n",
              "       0., 0., 0., 0., 0., 1., 0., 0., 0., 0., 0., 0., 0., 1., 0., 0., 0.,\n",
              "       1., 1., 0., 0., 0., 0., 1., 0., 0., 0., 0., 0., 1., 0., 0., 0., 0.,\n",
              "       0., 0., 0., 0., 0., 0., 0., 0., 0., 0., 0., 0., 0., 0., 0., 1., 0.,\n",
              "       0., 0., 0., 0., 1., 1., 0., 0., 0., 0., 0., 0., 0., 0., 1., 0., 0.,\n",
              "       1., 1., 1., 1., 0., 0., 0., 0., 0., 1., 1., 1., 1., 1., 1., 1., 1.,\n",
              "       0., 0., 0.])"
            ]
          },
          "metadata": {},
          "execution_count": 13
        }
      ]
    },
    {
      "cell_type": "code",
      "source": [
        "str_length = 2\n",
        "feedback = 1\n",
        "\n",
        "session = np.array([-1,1,1,1,1,1,-1])   #example session\n",
        "\n",
        "X = search_sequence(session,str_length,feedback)  #this would be the feature for the regression\n",
        "y = session[str_length:]                          #since we cant predict the first 2 places, I slice from the str_length\n",
        "\n",
        "print(X)\n",
        "print(y)"
      ],
      "metadata": {
        "colab": {
          "base_uri": "https://localhost:8080/"
        },
        "id": "YlnEY1H8s8_M",
        "outputId": "dae7849b-eb55-4320-d8ff-34e05d0719a2"
      },
      "execution_count": 53,
      "outputs": [
        {
          "output_type": "stream",
          "name": "stdout",
          "text": [
            "[0. 1. 1. 1. 1.]\n",
            "[ 1  1  1  1 -1]\n"
          ]
        }
      ]
    },
    {
      "cell_type": "code",
      "source": [
        "#if I want 2 features as different streak lengths, I just slice the second one to match the lengths, and then slice the targets\n",
        "X1 = search_sequence(session,2,feedback) \n",
        "X2 = search_sequence(session,3,feedback) \n",
        "print(X1)\n",
        "print(X2)\n",
        "print(session)"
      ],
      "metadata": {
        "colab": {
          "base_uri": "https://localhost:8080/"
        },
        "id": "6xVa4C_txbgb",
        "outputId": "d21bec7d-c8b5-48df-b512-e8c9d957052b"
      },
      "execution_count": 55,
      "outputs": [
        {
          "output_type": "stream",
          "name": "stdout",
          "text": [
            "[0. 1. 1. 1. 1. 0. 0.]\n",
            "[0. 1. 1. 1. 0. 0. 0.]\n",
            "[-1  1  1  1  1  1 -1]\n"
          ]
        }
      ]
    },
    {
      "cell_type": "code",
      "source": [
        "#finally, I want to run this for all mice in the lab with the same training percentage\n",
        "\n",
        "dictionary = fetch_mice_by_percentage(40)\n",
        "\n",
        "X_0 = []   # contrast\n",
        "X_1 = []   # feature 1, streaks of 2\n",
        "X_2 = []   # feature 2, streaks of 3\n",
        "X_3 = []   # feature 3, punishment streaks of 2\n",
        "X_4 = []   # feature 4, punishment streaks of 3\n",
        "\n",
        "y = []\n",
        "for mouse in mainen_mice:\n",
        "  try:\n",
        "    for i in range(len(dictionary[mouse])):\n",
        "      session, contrast_left, contrast_right = ((behavior.TrialSet.Trial & {'subject_uuid' : mouse} & {'trial_stim_prob_left': 0.5}) & {'session_start_time' : dictionary[mouse][i]}).fetch('trial_feedback_type','trial_stim_contrast_left','trial_stim_contrast_right')\n",
        "      x_0 = contrast_left + contrast_right\n",
        "      x_1 = search_sequence(session,2,1) \n",
        "      x_2 = search_sequence(session,3,1)\n",
        "      x_3 = search_sequence(session,2,-1) \n",
        "      x_4 = search_sequence(session,3,-1)  \n",
        "\n",
        "      X_0 = np.append(X_0,x_0)\n",
        "      X_1 = np.append(X_1,x_1)\n",
        "      X_2 = np.append(X_2,x_2)\n",
        "      X_3 = np.append(X_3,x_3)\n",
        "      X_4 = np.append(X_4,x_4)\n",
        "\n",
        "      y = np.append(y,session)\n",
        "  except:\n",
        "    pass\n",
        "\n",
        "X = np.vstack((X_0,X_1,X_2,X_3,X_4))"
      ],
      "metadata": {
        "id": "DqoaL34Y4sfo"
      },
      "execution_count": 117,
      "outputs": []
    },
    {
      "cell_type": "markdown",
      "source": [
        "## The function that does it all"
      ],
      "metadata": {
        "id": "PlGr7nisA2RK"
      }
    },
    {
      "cell_type": "code",
      "source": [
        "def fetch_mice_by_percentage(lab_mice, lab_mice_in_training, percentage):\n",
        "  dictionary = {}\n",
        "\n",
        "  for mouse in lab_mice:\n",
        "    one_guy = lab_mice_in_training & {'subject_uuid' : mouse}\n",
        "    total_trials = len(one_guy.fetch('training_status'))\n",
        "    train_percentage = np.arange(1,total_trials+1) / total_trials\n",
        "    train_percentage_bin = ((train_percentage // 0.1) + 1)*10\n",
        "    where = np.where(train_percentage_bin == percentage)[0]\n",
        "    if len(where) !=0:\n",
        "      dictionary[mouse] = one_guy.fetch('session_start_time')[where]\n",
        "  return dictionary\n",
        "\n",
        "def search_sequence(arr,streak_length, feedback):\n",
        "    \"\"\" Find sequence in an array using NumPy only.\n",
        "\n",
        "    Parameters\n",
        "    ----------    \n",
        "    arr    : input 1D array\n",
        "    streak_length    : input int\n",
        "\n",
        "    Output\n",
        "    ------    \n",
        "    Output : 1D Array with 1s on indices where input array matches the sequence and 0s otherwise.\n",
        "    \"\"\"\n",
        "    # Create the sequence to look for\n",
        "    seq = np.ones(streak_length)*feedback\n",
        "\n",
        "    # Store sizes of input array and sequence\n",
        "    streak = np.zeros(arr.size)\n",
        "    Na, Nseq = arr.size, seq.size\n",
        "\n",
        "    # Range of sequence\n",
        "    r_seq = np.arange(Nseq)\n",
        "\n",
        "    # Create a 2D array of sliding indices across the entire length of input array.\n",
        "    # Match up with the input sequence & get the matching starting indices.\n",
        "    M = (arr[np.arange(Na-Nseq)[:,None] + r_seq] == seq).all(1)\n",
        "\n",
        "    # Get True values of M and write streak array\n",
        "    where = np.where(M == True)[0] \n",
        "    streak[where] = 1\n",
        "\n",
        "    return streak\n",
        "\n",
        "def get_streak_data(lab,percentage):\n",
        "  \"\"\" Returns streak of rewards and/or punishments before all trials with 50/50 probability, for all mice in chosen lab, with chosen training percentage.\n",
        "\n",
        "  Parameters\n",
        "  ----------    \n",
        "  lab    : input string\n",
        "  percentage    : input int\n",
        "\n",
        "  Output\n",
        "  ------    \n",
        "  Output :\n",
        "  2D array with size (features x samples)\n",
        "  1D array with size samples\n",
        "  \"\"\"\n",
        "\n",
        "\n",
        "  lab_mice_in_training = behavior_analyses.SessionTrainingStatus & 'training_status = \"in_training\" ' & (subject.SubjectLab & 'lab_name = \"{}\"'.format(lab)) \n",
        "  lab_mice = np.unique(lab_mice_in_training.fetch('subject_uuid'))\n",
        "\n",
        "  id = lab_mice_in_training.fetch('subject_uuid')\n",
        "  training_days = np.zeros_like(lab_mice)\n",
        "\n",
        "  for idx, mouse in enumerate(lab_mice):\n",
        "    training_days[idx] = len(np.where(id == mouse)[0])\n",
        "\n",
        "  dictionary = fetch_mice_by_percentage(lab_mice,lab_mice_in_training,percentage)\n",
        "\n",
        "  X_0 = []   # contrast\n",
        "  X_1 = []   # feature 1, streaks of 2\n",
        "  X_2 = []   # feature 2, streaks of 3\n",
        "  X_3 = []   # feature 3, punishment streaks of 2\n",
        "  X_4 = []   # feature 4, punishment streaks of 3\n",
        "\n",
        "  y = []\n",
        "  for mouse in lab_mice:\n",
        "    try:\n",
        "      for i in range(len(dictionary[mouse])):\n",
        "        session, contrast_left, contrast_right = ((behavior.TrialSet.Trial & {'subject_uuid' : mouse} & {'trial_stim_prob_left': 0.5}) & {'session_start_time' : dictionary[mouse][i]}).fetch('trial_feedback_type','trial_stim_contrast_left','trial_stim_contrast_right')\n",
        "        x_0 = contrast_left + contrast_right\n",
        "        x_1 = search_sequence(session,2,1) \n",
        "        x_2 = search_sequence(session,3,1)\n",
        "        x_3 = search_sequence(session,2,-1) \n",
        "        x_4 = search_sequence(session,3,-1)  \n",
        "\n",
        "        X_0 = np.append(X_0,x_0)\n",
        "        X_1 = np.append(X_1,x_1)\n",
        "        X_2 = np.append(X_2,x_2)\n",
        "        X_3 = np.append(X_3,x_3)\n",
        "        X_4 = np.append(X_4,x_4)\n",
        "\n",
        "        y = np.append(y,session)\n",
        "    except:\n",
        "      pass\n",
        "\n",
        "  X = np.vstack((X_0,X_1,X_2,X_3,X_4))\n",
        "\n",
        "  return (X, y)"
      ],
      "metadata": {
        "id": "O0cGWmJHAu8q"
      },
      "execution_count": 211,
      "outputs": []
    }
  ],
  "metadata": {
    "colab": {
      "name": "Data Retrieval - Fede.ipynb",
      "provenance": [],
      "include_colab_link": true
    },
    "kernelspec": {
      "display_name": "Python 3",
      "name": "python3"
    },
    "language_info": {
      "name": "python"
    }
  },
  "nbformat": 4,
  "nbformat_minor": 0
}